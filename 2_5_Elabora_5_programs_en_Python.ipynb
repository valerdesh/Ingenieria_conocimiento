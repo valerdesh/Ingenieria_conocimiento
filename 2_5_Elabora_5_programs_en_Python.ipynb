{
  "nbformat": 4,
  "nbformat_minor": 0,
  "metadata": {
    "colab": {
      "name": "2.5 Elabora 5 programs en Python.ipynb",
      "provenance": [],
      "collapsed_sections": []
    },
    "kernelspec": {
      "name": "python3",
      "display_name": "Python 3"
    },
    "language_info": {
      "name": "python"
    }
  },
  "cells": [
    {
      "cell_type": "markdown",
      "metadata": {
        "id": "EE3BgEDwVZ7Y"
      },
      "source": [
        "Una pulgada equivale a 2.5 cm., calcular el numero de cm en 32 pulgadas.\n"
      ]
    },
    {
      "cell_type": "code",
      "metadata": {
        "colab": {
          "base_uri": "https://localhost:8080/"
        },
        "id": "bjvSIfirVd8R",
        "outputId": "2285c74b-9801-471d-8ddf-779850d31f11"
      },
      "source": [
        "\n",
        "x = 32\n",
        "b = 2.5\n",
        "\n",
        "pulgadas = float(x)/float(b)\n",
        "\n",
        "print(pulgadas)"
      ],
      "execution_count": 3,
      "outputs": [
        {
          "output_type": "stream",
          "text": [
            "12.8\n"
          ],
          "name": "stdout"
        }
      ]
    },
    {
      "cell_type": "markdown",
      "metadata": {
        "id": "mNmDhOeOZuYR"
      },
      "source": [
        "Una formula para cambiar Kgrs. a libras es P\n",
        "= 2.2 K, donde P son libras y K kilogramos.\n",
        "Calcular ei numero de libras en 212 kilogramos."
      ]
    },
    {
      "cell_type": "code",
      "metadata": {
        "colab": {
          "base_uri": "https://localhost:8080/"
        },
        "id": "REkQTfQmUtst",
        "outputId": "8e65e9ae-0655-4f19-903b-d80321a0d8ce"
      },
      "source": [
        "P = 2.2\n",
        "K = 212\n",
        "\n",
        "libras = float(K) / float(P)\n",
        "\n",
        "print(libras)"
      ],
      "execution_count": 6,
      "outputs": [
        {
          "output_type": "stream",
          "text": [
            "96.36363636363636\n"
          ],
          "name": "stdout"
        }
      ]
    },
    {
      "cell_type": "markdown",
      "metadata": {
        "id": "hfK-yZBuVY4S"
      },
      "source": [
        "Convertir libras y onzas a kilogramos."
      ]
    },
    {
      "cell_type": "code",
      "metadata": {
        "colab": {
          "base_uri": "https://localhost:8080/"
        },
        "id": "tKLXcYK_aRDm",
        "outputId": "dfacd439-dea3-4434-d927-5a1c74c6ab87"
      },
      "source": [
        "print(\"Escriba las onzas a kilogramos que desea convertir\")\n",
        "O = float(input())\n",
        "O = O / 35.274\n",
        "\n",
        "\n",
        "print(\"Escriba las libras a kilogramos que desea convertir\")\n",
        "P = float(input())\n",
        "P = P / 2.2\n",
        "\n",
        "\n",
        "\n",
        "print(\"Libras(en K):\".format(P) +\" Onzas (en K\".format(O))"
      ],
      "execution_count": 14,
      "outputs": [
        {
          "output_type": "stream",
          "text": [
            "Escriba las onzas a kilogramos que desea convertir\n",
            "5\n",
            "Escriba las libras a kilogramos que desea convertir\n",
            "3\n",
            "Libras(en K): Onzas (en K\n"
          ],
          "name": "stdout"
        }
      ]
    },
    {
      "cell_type": "markdown",
      "metadata": {
        "id": "XCLsU3VZZ8Dk"
      },
      "source": [
        "Si una impresora mueve pape! con una rapidez de 1,000 pies por minuto, cual les su rapidez en centimetros por segundo?"
      ]
    },
    {
      "cell_type": "code",
      "metadata": {
        "colab": {
          "base_uri": "https://localhost:8080/"
        },
        "id": "ho1UuzEpaQ0l",
        "outputId": "e711f33e-a6aa-4a70-980f-a7ea15a7a568"
      },
      "source": [
        "pies = 30.48\n",
        "tiempo = float(1000) * float(60)\n",
        "\n",
        "cm = (float(pies) * 1000) \n",
        "\n",
        "print(\"La rapidez es \")\n",
        "print(cm)\n",
        "print(\"centimetro por \")\n",
        "print(tiempo)\n",
        "print(\"segundos \")"
      ],
      "execution_count": 19,
      "outputs": [
        {
          "output_type": "stream",
          "text": [
            "La rapidez es \n",
            "30480.0\n",
            "centimetro por \n",
            "60000.0\n"
          ],
          "name": "stdout"
        }
      ]
    },
    {
      "cell_type": "markdown",
      "metadata": {
        "id": "77M30D4HaMH2"
      },
      "source": [
        "Si un cierto tipo de tapete se vende a $9 por yarda cuadrada, cual es su precio por metro cuadrado?"
      ]
    },
    {
      "cell_type": "code",
      "metadata": {
        "colab": {
          "base_uri": "https://localhost:8080/"
        },
        "id": "pUTHI4HAaPud",
        "outputId": "8846983a-5f36-47b4-fcb5-d26b9a7ca475"
      },
      "source": [
        "\n",
        "costo = float(9) / float(1.196)\n",
        "print(\"El costo por metro cuadrado es de\")\n",
        "print(costo)"
      ],
      "execution_count": 20,
      "outputs": [
        {
          "output_type": "stream",
          "text": [
            "El costo por metro cuadrado es de\n",
            "7.525083612040134\n"
          ],
          "name": "stdout"
        }
      ]
    }
  ]
}